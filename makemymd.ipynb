{
 "metadata": {
  "name": "",
  "signature": "sha256:4e952c3f35b533ccac7205cb6b390af9d60e447f97e6028dbc23ec9b61f6f1bb"
 },
 "nbformat": 3,
 "nbformat_minor": 0,
 "worksheets": [
  {
   "cells": [
    {
     "cell_type": "code",
     "collapsed": false,
     "input": [
      "import os"
     ],
     "language": "python",
     "metadata": {},
     "outputs": [],
     "prompt_number": 31
    },
    {
     "cell_type": "code",
     "collapsed": false,
     "input": [
      "f=open('README.md','w')"
     ],
     "language": "python",
     "metadata": {},
     "outputs": [],
     "prompt_number": 32
    },
    {
     "cell_type": "code",
     "collapsed": false,
     "input": [
      "prestring=\"\"\"\n",
      "# Haushaltsentwurf Dresden 2015/2016\n",
      "Gemacht mit einem Offenem Haushalt*\n",
      "--------\n",
      "\n",
      "*nein, eigentlich nicht, denn er ist in Dresden noch nicht offen\n",
      "\n",
      "## Haushaltsentwurf 2015 (in mio EUR)\n",
      "\n",
      "\"\"\"\n",
      "f.write(prestring)"
     ],
     "language": "python",
     "metadata": {},
     "outputs": [],
     "prompt_number": 33
    },
    {
     "cell_type": "code",
     "collapsed": false,
     "input": [
      "figs=[]\n",
      "imgExts = [\"png\"]\n",
      "for path, dirs, files in os.walk('.'):\n",
      "    for fileName in files:\n",
      "        ext = fileName[-3:].lower()\n",
      "        if ext not in imgExts:\n",
      "            continue\n",
      "        else:\n",
      "            figs.append('![Abbildung](https://github.com/balzer82/DresdenData/blob/master/' + fileName + '?raw=true)')\n",
      "            \n",
      "figstring='\\n\\n'.join(figs)\n",
      "f.write(figstring)"
     ],
     "language": "python",
     "metadata": {},
     "outputs": [],
     "prompt_number": 34
    },
    {
     "cell_type": "code",
     "collapsed": false,
     "input": [
      "poststring =\"\"\"\n",
      "## Datenquelle\n",
      "[PDF Scraper](https://gist.github.com/Mic92/876d8fd0190df52ffb4c)\n",
      "\n",
      "## Kontakt\n",
      "\n",
      "[Open Knowledge Foundation / OKLab Dresden](http://OKDD.de)\n",
      "\n",
      "## Disclaimer\n",
      "\n",
      "*Kein Anspruch auf Richtigkeit!*\n",
      "\"\"\"\n",
      "f.write(poststring)\n",
      "f.close()"
     ],
     "language": "python",
     "metadata": {},
     "outputs": [],
     "prompt_number": 35
    },
    {
     "cell_type": "code",
     "collapsed": false,
     "input": [],
     "language": "python",
     "metadata": {},
     "outputs": [],
     "prompt_number": 35
    }
   ],
   "metadata": {}
  }
 ]
}