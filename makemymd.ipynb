{
 "metadata": {
  "name": "",
  "signature": "sha256:692ab58866fcea4233342c22a0c01d2caac3e9855e6bd8f8a157efa460fca280"
 },
 "nbformat": 3,
 "nbformat_minor": 0,
 "worksheets": [
  {
   "cells": [
    {
     "cell_type": "code",
     "collapsed": false,
     "input": [
      "import os"
     ],
     "language": "python",
     "metadata": {},
     "outputs": [],
     "prompt_number": 1
    },
    {
     "cell_type": "code",
     "collapsed": false,
     "input": [
      "f=open('README.md','w')"
     ],
     "language": "python",
     "metadata": {},
     "outputs": [],
     "prompt_number": 2
    },
    {
     "cell_type": "code",
     "collapsed": false,
     "input": [
      "prestring=\"\"\"\n",
      "# Haushaltsentwurf Dresden 2015/2016\n",
      "Gemacht mit einem Offenen Haushalt*\n",
      "--------\n",
      "\n",
      "*nein, eigentlich nicht, denn er ist in Dresden noch nicht offen\n",
      "\n",
      "## Haushaltsentwurf 2015 (in mio EUR)\n",
      "\n",
      "\"\"\"\n",
      "f.write(prestring)"
     ],
     "language": "python",
     "metadata": {},
     "outputs": [],
     "prompt_number": 3
    },
    {
     "cell_type": "code",
     "collapsed": false,
     "input": [
      "baseurl = '![Abbildung](https://raw.githubusercontent.com/balzer82/Dresden-Haushalt/master/'\n",
      "figs=[]\n",
      "for path, dirs, files in os.walk('.'):\n",
      "    for fileName in files:\n",
      "        if fileName.endswith('.png'):\n",
      "            \n",
      "            figs.append(baseurl + fileName + ')')\n",
      "\n",
      "figs.sort()\n",
      "figs.reverse()\n",
      "\n",
      "figstring='\\n\\n'.join(figs)\n",
      "f.write(figstring)"
     ],
     "language": "python",
     "metadata": {},
     "outputs": [],
     "prompt_number": 4
    },
    {
     "cell_type": "code",
     "collapsed": false,
     "input": [
      "poststring =\"\"\"\n",
      "## Datenquelle\n",
      "[PDF Scraper](https://gist.github.com/Mic92/876d8fd0190df52ffb4c)\n",
      "\n",
      "## Kontakt\n",
      "\n",
      "[Open Knowledge Foundation / OKLab Dresden](http://OKDD.de)\n",
      "\n",
      "## Disclaimer\n",
      "\n",
      "*Kein Anspruch auf Richtigkeit!*\n",
      "\"\"\"\n",
      "f.write(poststring)\n",
      "f.close()\n",
      "\n",
      "print('Done.')"
     ],
     "language": "python",
     "metadata": {},
     "outputs": [
      {
       "output_type": "stream",
       "stream": "stdout",
       "text": [
        "Done.\n"
       ]
      }
     ],
     "prompt_number": 5
    },
    {
     "cell_type": "code",
     "collapsed": false,
     "input": [],
     "language": "python",
     "metadata": {},
     "outputs": [],
     "prompt_number": 5
    }
   ],
   "metadata": {}
  }
 ]
}