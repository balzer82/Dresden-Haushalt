{
 "metadata": {
  "name": "",
  "signature": "sha256:d92bb02346ca42fdf24db6824d6b5206c490a91fa400200f515d8b53f715e6cc"
 },
 "nbformat": 3,
 "nbformat_minor": 0,
 "worksheets": [
  {
   "cells": [
    {
     "cell_type": "code",
     "collapsed": false,
     "input": [
      "import os"
     ],
     "language": "python",
     "metadata": {},
     "outputs": [],
     "prompt_number": 7
    },
    {
     "cell_type": "code",
     "collapsed": false,
     "input": [
      "f=open('README.md','w')"
     ],
     "language": "python",
     "metadata": {},
     "outputs": [],
     "prompt_number": 8
    },
    {
     "cell_type": "code",
     "collapsed": false,
     "input": [
      "prestring=\"\"\"\n",
      "# Haushaltsentwurf Dresden 2015/2016\n",
      "Gemacht mit einem Offenem Haushalt*\n",
      "--------\n",
      "\n",
      "*nein, eigentlich nicht, denn er ist in Dresden noch nicht offen\n",
      "\n",
      "## Haushaltsentwurf 2015 (in mio EUR)\n",
      "\n",
      "\"\"\"\n",
      "f.write(prestring)"
     ],
     "language": "python",
     "metadata": {},
     "outputs": [],
     "prompt_number": 9
    },
    {
     "cell_type": "code",
     "collapsed": false,
     "input": [
      "figs=[]\n",
      "imgExts = [\"png\"]\n",
      "for path, dirs, files in os.walk('.'):\n",
      "    for fileName in files:\n",
      "        ext = fileName[-3:].lower()\n",
      "        if ext not in imgExts:\n",
      "            continue\n",
      "        else:\n",
      "            figs.append('![Abbildung](https://github.com/balzer82/Dresden-Haushalt/blob/master/' + fileName + '?raw=true)')\n",
      "            \n",
      "figstring='\\n\\n'.join(figs)\n",
      "f.write(figstring)"
     ],
     "language": "python",
     "metadata": {},
     "outputs": [],
     "prompt_number": 10
    },
    {
     "cell_type": "code",
     "collapsed": false,
     "input": [
      "poststring =\"\"\"\n",
      "## Datenquelle\n",
      "[PDF Scraper](https://gist.github.com/Mic92/876d8fd0190df52ffb4c)\n",
      "\n",
      "## Kontakt\n",
      "\n",
      "[Open Knowledge Foundation / OKLab Dresden](http://OKDD.de)\n",
      "\n",
      "## Disclaimer\n",
      "\n",
      "*Kein Anspruch auf Richtigkeit!*\n",
      "\"\"\"\n",
      "f.write(poststring)\n",
      "f.close()"
     ],
     "language": "python",
     "metadata": {},
     "outputs": [],
     "prompt_number": 11
    },
    {
     "cell_type": "code",
     "collapsed": false,
     "input": [],
     "language": "python",
     "metadata": {},
     "outputs": [],
     "prompt_number": 11
    }
   ],
   "metadata": {}
  }
 ]
}