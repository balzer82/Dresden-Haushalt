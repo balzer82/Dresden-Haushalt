{
 "metadata": {
  "name": "",
  "signature": "sha256:582dfd8c08f59a403112970276ddc2f09d6a839afdcba1bfc071879326f45840"
 },
 "nbformat": 3,
 "nbformat_minor": 0,
 "worksheets": [
  {
   "cells": [
    {
     "cell_type": "code",
     "collapsed": false,
     "input": [
      "import os"
     ],
     "language": "python",
     "metadata": {},
     "outputs": [],
     "prompt_number": 110
    },
    {
     "cell_type": "code",
     "collapsed": false,
     "input": [
      "f=open('README.md','w')"
     ],
     "language": "python",
     "metadata": {},
     "outputs": [],
     "prompt_number": 111
    },
    {
     "cell_type": "code",
     "collapsed": false,
     "input": [
      "prestring=\"\"\"\n",
      "# Haushaltsentwurf Dresden 2015/2016\n",
      "Gemacht mit einem Offenen Haushalt*\n",
      "--------\n",
      "\n",
      "*nein, eigentlich nicht, denn er ist in Dresden noch nicht offen\n",
      "\n",
      "## Haushaltsentwurf 2015 (in mio EUR)\n",
      "\n",
      "\"\"\"\n",
      "f.write(prestring)"
     ],
     "language": "python",
     "metadata": {},
     "outputs": [],
     "prompt_number": 112
    },
    {
     "cell_type": "code",
     "collapsed": false,
     "input": [
      "baseurl = '![Abbildung](https://raw.githubusercontent.com/balzer82/Dresden-Haushalt/master/'\n",
      "figs=[]\n",
      "for path, dirs, files in os.walk('.'):\n",
      "    for fileName in files:\n",
      "        if fileName.endswith('.png'):\n",
      "            \n",
      "            figs.append(baseurl + fileName + ')')\n",
      "\n",
      "figs.sort()\n",
      "figs.reverse()\n",
      "\n",
      "figstring='\\n\\n'.join(figs)\n",
      "f.write(figstring)"
     ],
     "language": "python",
     "metadata": {},
     "outputs": [],
     "prompt_number": 113
    },
    {
     "cell_type": "code",
     "collapsed": false,
     "input": [
      "poststring =\"\"\"\n",
      "## Datenquelle\n",
      "[PDF Scraper](https://gist.github.com/Mic92/876d8fd0190df52ffb4c)\n",
      "\n",
      "## Kontakt\n",
      "\n",
      "[Open Knowledge Foundation / OKLab Dresden](http://OKDD.de)\n",
      "\n",
      "## Disclaimer\n",
      "\n",
      "*Kein Anspruch auf Richtigkeit!*\n",
      "\"\"\"\n",
      "f.write(poststring)\n",
      "f.close()\n",
      "\n",
      "print('Done.')"
     ],
     "language": "python",
     "metadata": {},
     "outputs": [
      {
       "output_type": "stream",
       "stream": "stdout",
       "text": [
        "Done.\n"
       ]
      }
     ],
     "prompt_number": 114
    },
    {
     "cell_type": "code",
     "collapsed": false,
     "input": [],
     "language": "python",
     "metadata": {},
     "outputs": [],
     "prompt_number": 114
    }
   ],
   "metadata": {}
  }
 ]
}