{
 "metadata": {
  "name": "",
  "signature": "sha256:efffc4118ae86da3c9abe1b3265f4311470fb431352e1e3bf87e330e0628fb42"
 },
 "nbformat": 3,
 "nbformat_minor": 0,
 "worksheets": [
  {
   "cells": [
    {
     "cell_type": "code",
     "collapsed": false,
     "input": [
      "import os\n",
      "import urllib"
     ],
     "language": "python",
     "metadata": {},
     "outputs": [],
     "prompt_number": 105
    },
    {
     "cell_type": "code",
     "collapsed": false,
     "input": [],
     "language": "python",
     "metadata": {},
     "outputs": [],
     "prompt_number": 109
    },
    {
     "cell_type": "code",
     "collapsed": false,
     "input": [],
     "language": "python",
     "metadata": {},
     "outputs": [],
     "prompt_number": 106
    },
    {
     "cell_type": "code",
     "collapsed": false,
     "input": [
      "f=open('README.md','w')"
     ],
     "language": "python",
     "metadata": {},
     "outputs": [],
     "prompt_number": 107
    },
    {
     "cell_type": "code",
     "collapsed": false,
     "input": [
      "prestring=\"\"\"\n",
      "# Haushaltsentwurf Dresden 2015/2016\n",
      "Gemacht mit einem Offenen Haushalt*\n",
      "--------\n",
      "\n",
      "*nein, eigentlich nicht, denn er ist in Dresden noch nicht offen\n",
      "\n",
      "## Haushaltsentwurf 2015 (in mio EUR)\n",
      "\n",
      "\"\"\"\n",
      "f.write(prestring)"
     ],
     "language": "python",
     "metadata": {},
     "outputs": [],
     "prompt_number": 108
    },
    {
     "cell_type": "code",
     "collapsed": false,
     "input": [
      "baseurl = '![Abbildung](https://raw.githubusercontent.com/balzer82/Dresden-Haushalt/master/'\n",
      "figs=[]\n",
      "for path, dirs, files in os.walk('.'):\n",
      "    for fileName in files:\n",
      "        if fileName.endswith('.png'):\n",
      "            \n",
      "            figs.append(baseurl + fileName + ')')\n",
      "\n",
      "figs.sort()\n",
      "figs.reverse()\n",
      "\n",
      "figstring='\\n\\n'.join(figs)\n",
      "f.write(figstring)"
     ],
     "language": "python",
     "metadata": {},
     "outputs": [
      {
       "ename": "UnicodeEncodeError",
       "evalue": "'ascii' codec can't encode character u'\\u0308' in position 508: ordinal not in range(128)",
       "output_type": "pyerr",
       "traceback": [
        "\u001b[0;31m---------------------------------------------------------------------------\u001b[0m\n\u001b[0;31mUnicodeEncodeError\u001b[0m                        Traceback (most recent call last)",
        "\u001b[0;32m<ipython-input-109-8b915d036bc1>\u001b[0m in \u001b[0;36m<module>\u001b[0;34m()\u001b[0m\n\u001b[1;32m     12\u001b[0m \u001b[0;34m\u001b[0m\u001b[0m\n\u001b[1;32m     13\u001b[0m \u001b[0mfigstring\u001b[0m\u001b[0;34m=\u001b[0m\u001b[0;34m'\\n\\n'\u001b[0m\u001b[0;34m.\u001b[0m\u001b[0mjoin\u001b[0m\u001b[0;34m(\u001b[0m\u001b[0mfigs\u001b[0m\u001b[0;34m)\u001b[0m\u001b[0;34m\u001b[0m\u001b[0m\n\u001b[0;32m---> 14\u001b[0;31m \u001b[0mf\u001b[0m\u001b[0;34m.\u001b[0m\u001b[0mwrite\u001b[0m\u001b[0;34m(\u001b[0m\u001b[0mfigstring\u001b[0m\u001b[0;34m.\u001b[0m\u001b[0mdecode\u001b[0m\u001b[0;34m(\u001b[0m\u001b[0;34m'utf-8'\u001b[0m\u001b[0;34m)\u001b[0m\u001b[0;34m)\u001b[0m\u001b[0;34m\u001b[0m\u001b[0m\n\u001b[0m",
        "\u001b[0;31mUnicodeEncodeError\u001b[0m: 'ascii' codec can't encode character u'\\u0308' in position 508: ordinal not in range(128)"
       ]
      }
     ],
     "prompt_number": 109
    },
    {
     "cell_type": "code",
     "collapsed": false,
     "input": [
      "poststring =\"\"\"\n",
      "## Datenquelle\n",
      "[PDF Scraper](https://gist.github.com/Mic92/876d8fd0190df52ffb4c)\n",
      "\n",
      "## Kontakt\n",
      "\n",
      "[Open Knowledge Foundation / OKLab Dresden](http://OKDD.de)\n",
      "\n",
      "## Disclaimer\n",
      "\n",
      "*Kein Anspruch auf Richtigkeit!*\n",
      "\"\"\"\n",
      "f.write(poststring)\n",
      "f.close()\n",
      "\n",
      "print('Done.')"
     ],
     "language": "python",
     "metadata": {},
     "outputs": []
    },
    {
     "cell_type": "code",
     "collapsed": false,
     "input": [],
     "language": "python",
     "metadata": {},
     "outputs": []
    }
   ],
   "metadata": {}
  }
 ]
}